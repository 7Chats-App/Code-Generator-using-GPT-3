{
 "cells": [
  {
   "cell_type": "code",
   "execution_count": 1,
   "metadata": {},
   "outputs": [
    {
     "name": "stdout",
     "output_type": "stream",
     "text": [
      "Requirement already satisfied: openai in c:\\users\\rudra patel\\anaconda3\\envs\\tensorflow\\lib\\site-packages (0.6.3)\n",
      "Requirement already satisfied: tqdm in c:\\users\\rudra patel\\anaconda3\\envs\\tensorflow\\lib\\site-packages (from openai) (4.59.0)\n",
      "Requirement already satisfied: requests>=2.20; python_version >= \"3.0\" in c:\\users\\rudra patel\\anaconda3\\envs\\tensorflow\\lib\\site-packages (from openai) (2.24.0)\n",
      "Requirement already satisfied: chardet<4,>=3.0.2 in c:\\users\\rudra patel\\anaconda3\\envs\\tensorflow\\lib\\site-packages (from requests>=2.20; python_version >= \"3.0\"->openai) (3.0.4)\n",
      "Requirement already satisfied: idna<3,>=2.5 in c:\\users\\rudra patel\\anaconda3\\envs\\tensorflow\\lib\\site-packages (from requests>=2.20; python_version >= \"3.0\"->openai) (2.10)\n",
      "Requirement already satisfied: certifi>=2017.4.17 in c:\\users\\rudra patel\\anaconda3\\envs\\tensorflow\\lib\\site-packages (from requests>=2.20; python_version >= \"3.0\"->openai) (2020.12.5)\n",
      "Requirement already satisfied: urllib3!=1.25.0,!=1.25.1,<1.26,>=1.21.1 in c:\\users\\rudra patel\\anaconda3\\envs\\tensorflow\\lib\\site-packages (from requests>=2.20; python_version >= \"3.0\"->openai) (1.25.9)\n"
     ]
    }
   ],
   "source": [
    "!pip install openai"
   ]
  },
  {
   "cell_type": "code",
   "execution_count": 6,
   "metadata": {},
   "outputs": [],
   "source": [
    "import os\n",
    "import openai\n",
    "import json"
   ]
  },
  {
   "cell_type": "code",
   "execution_count": 7,
   "metadata": {},
   "outputs": [],
   "source": [
    "with open('GPT_SECRET_KEY.json') as f:\n",
    "    data = json.load(f)"
   ]
  },
  {
   "cell_type": "code",
   "execution_count": 8,
   "metadata": {},
   "outputs": [],
   "source": [
    "openai.api_key = data[\"API_KEY\"]"
   ]
  },
  {
   "cell_type": "code",
   "execution_count": 9,
   "metadata": {},
   "outputs": [],
   "source": [
    "from gpt import GPT\n",
    "from gpt import Example"
   ]
  },
  {
   "cell_type": "code",
   "execution_count": 10,
   "metadata": {},
   "outputs": [],
   "source": [
    "gpt = GPT(engine=\"davinci\",\n",
    "          temperature=0.5,\n",
    "          max_tokens=100)"
   ]
  },
  {
   "cell_type": "code",
   "execution_count": 12,
   "metadata": {},
   "outputs": [
    {
     "name": "stdout",
     "output_type": "stream",
     "text": [
      "Collecting ipynb\n",
      "  Downloading ipynb-0.5.1-py3-none-any.whl (6.9 kB)\n",
      "Installing collected packages: ipynb\n",
      "Successfully installed ipynb-0.5.1\n"
     ]
    }
   ],
   "source": [
    "!pip install ipynb\n"
   ]
  },
  {
   "cell_type": "code",
   "execution_count": 13,
   "metadata": {},
   "outputs": [],
   "source": [
    "from ipynb.fs.full.Examples import *"
   ]
  },
  {
   "cell_type": "code",
   "execution_count": 14,
   "metadata": {},
   "outputs": [],
   "source": [
    "prompt = \" Calculate sum of two numbers in python. \""
   ]
  },
  {
   "cell_type": "code",
   "execution_count": 15,
   "metadata": {},
   "outputs": [
    {
     "data": {
      "text/plain": [
       "'output: \\nimport math\\n\\nnum1 = float(input())\\nnum2 = float(input())\\nsum = num1 + num2\\nprint(\"Sum of 2 numbers is: \",sum) \\n\\n'"
      ]
     },
     "execution_count": 15,
     "metadata": {},
     "output_type": "execute_result"
    }
   ],
   "source": [
    "output = gpt.submit_request(prompt)\n",
    "output.choices[0].text"
   ]
  },
  {
   "cell_type": "code",
   "execution_count": null,
   "metadata": {},
   "outputs": [],
   "source": []
  }
 ],
 "metadata": {
  "kernelspec": {
   "display_name": "Python 3",
   "language": "python",
   "name": "python3"
  },
  "language_info": {
   "codemirror_mode": {
    "name": "ipython",
    "version": 3
   },
   "file_extension": ".py",
   "mimetype": "text/x-python",
   "name": "python",
   "nbconvert_exporter": "python",
   "pygments_lexer": "ipython3",
   "version": "3.6.10"
  }
 },
 "nbformat": 4,
 "nbformat_minor": 4
}
